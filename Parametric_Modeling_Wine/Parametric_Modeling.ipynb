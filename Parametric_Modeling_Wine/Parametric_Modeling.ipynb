{
  "cells": [
    {
      "cell_type": "markdown",
      "metadata": {},
      "source": [
        "# Parametric Modeling on Wine dataset\n",
        "Using parametric methods to predict the quality of wins based on other factors"
      ]
    },
    {
      "cell_type": "markdown",
      "metadata": {},
      "source": [
        "## Import libraries, read & visualize dataset"
      ]
    },
    {
      "cell_type": "code",
      "execution_count": 201,
      "metadata": {
        "colab": {
          "base_uri": "https://localhost:8080/",
          "height": 485
        },
        "id": "Z_hxerOTo1Cj",
        "outputId": "183f7078-fa66-4d1c-c965-37e7f4a2c643"
      },
      "outputs": [
        {
          "data": {
            "text/html": [
              "\n",
              "  <div id=\"df-2794fc13-7a4d-4575-b334-d6fac9aa2373\">\n",
              "    <div class=\"colab-df-container\">\n",
              "      <div>\n",
              "<style scoped>\n",
              "    .dataframe tbody tr th:only-of-type {\n",
              "        vertical-align: middle;\n",
              "    }\n",
              "\n",
              "    .dataframe tbody tr th {\n",
              "        vertical-align: top;\n",
              "    }\n",
              "\n",
              "    .dataframe thead th {\n",
              "        text-align: right;\n",
              "    }\n",
              "</style>\n",
              "<table border=\"1\" class=\"dataframe\">\n",
              "  <thead>\n",
              "    <tr style=\"text-align: right;\">\n",
              "      <th></th>\n",
              "      <th>fixed acidity</th>\n",
              "      <th>volatile acidity</th>\n",
              "      <th>citric acid</th>\n",
              "      <th>residual sugar</th>\n",
              "      <th>chlorides</th>\n",
              "      <th>free sulfur dioxide</th>\n",
              "      <th>total sulfur dioxide</th>\n",
              "      <th>density</th>\n",
              "      <th>pH</th>\n",
              "      <th>sulphates</th>\n",
              "      <th>alcohol</th>\n",
              "      <th>quality</th>\n",
              "    </tr>\n",
              "  </thead>\n",
              "  <tbody>\n",
              "    <tr>\n",
              "      <th>0</th>\n",
              "      <td>7.0</td>\n",
              "      <td>0.27</td>\n",
              "      <td>0.36</td>\n",
              "      <td>20.7</td>\n",
              "      <td>0.045</td>\n",
              "      <td>45.0</td>\n",
              "      <td>170.0</td>\n",
              "      <td>1.00100</td>\n",
              "      <td>3.00</td>\n",
              "      <td>0.45</td>\n",
              "      <td>8.8</td>\n",
              "      <td>6</td>\n",
              "    </tr>\n",
              "    <tr>\n",
              "      <th>1</th>\n",
              "      <td>6.3</td>\n",
              "      <td>0.30</td>\n",
              "      <td>0.34</td>\n",
              "      <td>1.6</td>\n",
              "      <td>0.049</td>\n",
              "      <td>14.0</td>\n",
              "      <td>132.0</td>\n",
              "      <td>0.99400</td>\n",
              "      <td>3.30</td>\n",
              "      <td>0.49</td>\n",
              "      <td>9.5</td>\n",
              "      <td>6</td>\n",
              "    </tr>\n",
              "    <tr>\n",
              "      <th>2</th>\n",
              "      <td>8.1</td>\n",
              "      <td>0.28</td>\n",
              "      <td>0.40</td>\n",
              "      <td>6.9</td>\n",
              "      <td>0.050</td>\n",
              "      <td>30.0</td>\n",
              "      <td>97.0</td>\n",
              "      <td>0.99510</td>\n",
              "      <td>3.26</td>\n",
              "      <td>0.44</td>\n",
              "      <td>10.1</td>\n",
              "      <td>6</td>\n",
              "    </tr>\n",
              "    <tr>\n",
              "      <th>3</th>\n",
              "      <td>7.2</td>\n",
              "      <td>0.23</td>\n",
              "      <td>0.32</td>\n",
              "      <td>8.5</td>\n",
              "      <td>0.058</td>\n",
              "      <td>47.0</td>\n",
              "      <td>186.0</td>\n",
              "      <td>0.99560</td>\n",
              "      <td>3.19</td>\n",
              "      <td>0.40</td>\n",
              "      <td>9.9</td>\n",
              "      <td>6</td>\n",
              "    </tr>\n",
              "    <tr>\n",
              "      <th>4</th>\n",
              "      <td>7.2</td>\n",
              "      <td>0.23</td>\n",
              "      <td>0.32</td>\n",
              "      <td>8.5</td>\n",
              "      <td>0.058</td>\n",
              "      <td>47.0</td>\n",
              "      <td>186.0</td>\n",
              "      <td>0.99560</td>\n",
              "      <td>3.19</td>\n",
              "      <td>0.40</td>\n",
              "      <td>9.9</td>\n",
              "      <td>6</td>\n",
              "    </tr>\n",
              "    <tr>\n",
              "      <th>...</th>\n",
              "      <td>...</td>\n",
              "      <td>...</td>\n",
              "      <td>...</td>\n",
              "      <td>...</td>\n",
              "      <td>...</td>\n",
              "      <td>...</td>\n",
              "      <td>...</td>\n",
              "      <td>...</td>\n",
              "      <td>...</td>\n",
              "      <td>...</td>\n",
              "      <td>...</td>\n",
              "      <td>...</td>\n",
              "    </tr>\n",
              "    <tr>\n",
              "      <th>4893</th>\n",
              "      <td>6.2</td>\n",
              "      <td>0.21</td>\n",
              "      <td>0.29</td>\n",
              "      <td>1.6</td>\n",
              "      <td>0.039</td>\n",
              "      <td>24.0</td>\n",
              "      <td>92.0</td>\n",
              "      <td>0.99114</td>\n",
              "      <td>3.27</td>\n",
              "      <td>0.50</td>\n",
              "      <td>11.2</td>\n",
              "      <td>6</td>\n",
              "    </tr>\n",
              "    <tr>\n",
              "      <th>4894</th>\n",
              "      <td>6.6</td>\n",
              "      <td>0.32</td>\n",
              "      <td>0.36</td>\n",
              "      <td>8.0</td>\n",
              "      <td>0.047</td>\n",
              "      <td>57.0</td>\n",
              "      <td>168.0</td>\n",
              "      <td>0.99490</td>\n",
              "      <td>3.15</td>\n",
              "      <td>0.46</td>\n",
              "      <td>9.6</td>\n",
              "      <td>5</td>\n",
              "    </tr>\n",
              "    <tr>\n",
              "      <th>4895</th>\n",
              "      <td>6.5</td>\n",
              "      <td>0.24</td>\n",
              "      <td>0.19</td>\n",
              "      <td>1.2</td>\n",
              "      <td>0.041</td>\n",
              "      <td>30.0</td>\n",
              "      <td>111.0</td>\n",
              "      <td>0.99254</td>\n",
              "      <td>2.99</td>\n",
              "      <td>0.46</td>\n",
              "      <td>9.4</td>\n",
              "      <td>6</td>\n",
              "    </tr>\n",
              "    <tr>\n",
              "      <th>4896</th>\n",
              "      <td>5.5</td>\n",
              "      <td>0.29</td>\n",
              "      <td>0.30</td>\n",
              "      <td>1.1</td>\n",
              "      <td>0.022</td>\n",
              "      <td>20.0</td>\n",
              "      <td>110.0</td>\n",
              "      <td>0.98869</td>\n",
              "      <td>3.34</td>\n",
              "      <td>0.38</td>\n",
              "      <td>12.8</td>\n",
              "      <td>7</td>\n",
              "    </tr>\n",
              "    <tr>\n",
              "      <th>4897</th>\n",
              "      <td>6.0</td>\n",
              "      <td>0.21</td>\n",
              "      <td>0.38</td>\n",
              "      <td>0.8</td>\n",
              "      <td>0.020</td>\n",
              "      <td>22.0</td>\n",
              "      <td>98.0</td>\n",
              "      <td>0.98941</td>\n",
              "      <td>3.26</td>\n",
              "      <td>0.32</td>\n",
              "      <td>11.8</td>\n",
              "      <td>6</td>\n",
              "    </tr>\n",
              "  </tbody>\n",
              "</table>\n",
              "<p>4898 rows × 12 columns</p>\n",
              "</div>\n",
              "      <button class=\"colab-df-convert\" onclick=\"convertToInteractive('df-2794fc13-7a4d-4575-b334-d6fac9aa2373')\"\n",
              "              title=\"Convert this dataframe to an interactive table.\"\n",
              "              style=\"display:none;\">\n",
              "        \n",
              "  <svg xmlns=\"http://www.w3.org/2000/svg\" height=\"24px\"viewBox=\"0 0 24 24\"\n",
              "       width=\"24px\">\n",
              "    <path d=\"M0 0h24v24H0V0z\" fill=\"none\"/>\n",
              "    <path d=\"M18.56 5.44l.94 2.06.94-2.06 2.06-.94-2.06-.94-.94-2.06-.94 2.06-2.06.94zm-11 1L8.5 8.5l.94-2.06 2.06-.94-2.06-.94L8.5 2.5l-.94 2.06-2.06.94zm10 10l.94 2.06.94-2.06 2.06-.94-2.06-.94-.94-2.06-.94 2.06-2.06.94z\"/><path d=\"M17.41 7.96l-1.37-1.37c-.4-.4-.92-.59-1.43-.59-.52 0-1.04.2-1.43.59L10.3 9.45l-7.72 7.72c-.78.78-.78 2.05 0 2.83L4 21.41c.39.39.9.59 1.41.59.51 0 1.02-.2 1.41-.59l7.78-7.78 2.81-2.81c.8-.78.8-2.07 0-2.86zM5.41 20L4 18.59l7.72-7.72 1.47 1.35L5.41 20z\"/>\n",
              "  </svg>\n",
              "      </button>\n",
              "      \n",
              "  <style>\n",
              "    .colab-df-container {\n",
              "      display:flex;\n",
              "      flex-wrap:wrap;\n",
              "      gap: 12px;\n",
              "    }\n",
              "\n",
              "    .colab-df-convert {\n",
              "      background-color: #E8F0FE;\n",
              "      border: none;\n",
              "      border-radius: 50%;\n",
              "      cursor: pointer;\n",
              "      display: none;\n",
              "      fill: #1967D2;\n",
              "      height: 32px;\n",
              "      padding: 0 0 0 0;\n",
              "      width: 32px;\n",
              "    }\n",
              "\n",
              "    .colab-df-convert:hover {\n",
              "      background-color: #E2EBFA;\n",
              "      box-shadow: 0px 1px 2px rgba(60, 64, 67, 0.3), 0px 1px 3px 1px rgba(60, 64, 67, 0.15);\n",
              "      fill: #174EA6;\n",
              "    }\n",
              "\n",
              "    [theme=dark] .colab-df-convert {\n",
              "      background-color: #3B4455;\n",
              "      fill: #D2E3FC;\n",
              "    }\n",
              "\n",
              "    [theme=dark] .colab-df-convert:hover {\n",
              "      background-color: #434B5C;\n",
              "      box-shadow: 0px 1px 3px 1px rgba(0, 0, 0, 0.15);\n",
              "      filter: drop-shadow(0px 1px 2px rgba(0, 0, 0, 0.3));\n",
              "      fill: #FFFFFF;\n",
              "    }\n",
              "  </style>\n",
              "\n",
              "      <script>\n",
              "        const buttonEl =\n",
              "          document.querySelector('#df-2794fc13-7a4d-4575-b334-d6fac9aa2373 button.colab-df-convert');\n",
              "        buttonEl.style.display =\n",
              "          google.colab.kernel.accessAllowed ? 'block' : 'none';\n",
              "\n",
              "        async function convertToInteractive(key) {\n",
              "          const element = document.querySelector('#df-2794fc13-7a4d-4575-b334-d6fac9aa2373');\n",
              "          const dataTable =\n",
              "            await google.colab.kernel.invokeFunction('convertToInteractive',\n",
              "                                                     [key], {});\n",
              "          if (!dataTable) return;\n",
              "\n",
              "          const docLinkHtml = 'Like what you see? Visit the ' +\n",
              "            '<a target=\"_blank\" href=https://colab.research.google.com/notebooks/data_table.ipynb>data table notebook</a>'\n",
              "            + ' to learn more about interactive tables.';\n",
              "          element.innerHTML = '';\n",
              "          dataTable['output_type'] = 'display_data';\n",
              "          await google.colab.output.renderOutput(dataTable, element);\n",
              "          const docLink = document.createElement('div');\n",
              "          docLink.innerHTML = docLinkHtml;\n",
              "          element.appendChild(docLink);\n",
              "        }\n",
              "      </script>\n",
              "    </div>\n",
              "  </div>\n",
              "  "
            ],
            "text/plain": [
              "      fixed acidity  volatile acidity  citric acid  residual sugar  chlorides  \\\n",
              "0               7.0              0.27         0.36            20.7      0.045   \n",
              "1               6.3              0.30         0.34             1.6      0.049   \n",
              "2               8.1              0.28         0.40             6.9      0.050   \n",
              "3               7.2              0.23         0.32             8.5      0.058   \n",
              "4               7.2              0.23         0.32             8.5      0.058   \n",
              "...             ...               ...          ...             ...        ...   \n",
              "4893            6.2              0.21         0.29             1.6      0.039   \n",
              "4894            6.6              0.32         0.36             8.0      0.047   \n",
              "4895            6.5              0.24         0.19             1.2      0.041   \n",
              "4896            5.5              0.29         0.30             1.1      0.022   \n",
              "4897            6.0              0.21         0.38             0.8      0.020   \n",
              "\n",
              "      free sulfur dioxide  total sulfur dioxide  density    pH  sulphates  \\\n",
              "0                    45.0                 170.0  1.00100  3.00       0.45   \n",
              "1                    14.0                 132.0  0.99400  3.30       0.49   \n",
              "2                    30.0                  97.0  0.99510  3.26       0.44   \n",
              "3                    47.0                 186.0  0.99560  3.19       0.40   \n",
              "4                    47.0                 186.0  0.99560  3.19       0.40   \n",
              "...                   ...                   ...      ...   ...        ...   \n",
              "4893                 24.0                  92.0  0.99114  3.27       0.50   \n",
              "4894                 57.0                 168.0  0.99490  3.15       0.46   \n",
              "4895                 30.0                 111.0  0.99254  2.99       0.46   \n",
              "4896                 20.0                 110.0  0.98869  3.34       0.38   \n",
              "4897                 22.0                  98.0  0.98941  3.26       0.32   \n",
              "\n",
              "      alcohol  quality  \n",
              "0         8.8        6  \n",
              "1         9.5        6  \n",
              "2        10.1        6  \n",
              "3         9.9        6  \n",
              "4         9.9        6  \n",
              "...       ...      ...  \n",
              "4893     11.2        6  \n",
              "4894      9.6        5  \n",
              "4895      9.4        6  \n",
              "4896     12.8        7  \n",
              "4897     11.8        6  \n",
              "\n",
              "[4898 rows x 12 columns]"
            ]
          },
          "execution_count": 201,
          "metadata": {},
          "output_type": "execute_result"
        }
      ],
      "source": [
        "import pandas as pd\n",
        "import numpy as np\n",
        "import torch\n",
        "import seaborn as sns\n",
        "import matplotlib.pyplot as plt\n",
        "\n",
        "df = pd.read_csv('https://www-users.cse.umn.edu/~sjguy/data/WhiteWine.txt')\n",
        "df"
      ]
    },
    {
      "cell_type": "markdown",
      "metadata": {
        "id": "3AHTYQc3StTx"
      },
      "source": [
        "## Bar graph & Histogram of quality ratings and density:"
      ]
    },
    {
      "cell_type": "code",
      "execution_count": 135,
      "metadata": {
        "colab": {
          "base_uri": "https://localhost:8080/",
          "height": 353
        },
        "id": "xzgjJWfdqHJo",
        "outputId": "2dd68cf7-e217-4452-8ce3-a3af9e1b77d0"
      },
      "outputs": [
        {
          "name": "stderr",
          "output_type": "stream",
          "text": [
            "/usr/local/lib/python3.9/dist-packages/seaborn/_decorators.py:36: FutureWarning: Pass the following variable as a keyword arg: x. From version 0.12, the only valid positional argument will be `data`, and passing other arguments without an explicit keyword will result in an error or misinterpretation.\n",
            "  warnings.warn(\n"
          ]
        },
        {
          "data": {
            "text/plain": [
              "<AxesSubplot:xlabel='quality', ylabel='count'>"
            ]
          },
          "execution_count": 135,
          "metadata": {},
          "output_type": "execute_result"
        },
        {
          "data": {
            "image/png": "[encoded data removed]",
            "text/plain": [
              "<Figure size 432x288 with 1 Axes>"
            ]
          },
          "metadata": {
            "needs_background": "light"
          },
          "output_type": "display_data"
        }
      ],
      "source": [
        "sns.countplot(df[\"quality\"])"
      ]
    },
    {
      "cell_type": "code",
      "execution_count": 136,
      "metadata": {
        "colab": {
          "base_uri": "https://localhost:8080/",
          "height": 353
        },
        "id": "KbUzTA9ktSPl",
        "outputId": "eb11145b-5047-4f43-9768-fa92401ef508"
      },
      "outputs": [
        {
          "name": "stderr",
          "output_type": "stream",
          "text": [
            "/usr/local/lib/python3.9/dist-packages/seaborn/distributions.py:2619: FutureWarning: `distplot` is a deprecated function and will be removed in a future version. Please adapt your code to use either `displot` (a figure-level function with similar flexibility) or `histplot` (an axes-level function for histograms).\n",
            "  warnings.warn(msg, FutureWarning)\n"
          ]
        },
        {
          "data": {
            "text/plain": [
              "<AxesSubplot:xlabel='alcohol', ylabel='Density'>"
            ]
          },
          "execution_count": 136,
          "metadata": {},
          "output_type": "execute_result"
        },
        {
          "data": {
            "image/png": "[encoded data removed]",
            "text/plain": [
              "<Figure size 432x288 with 1 Axes>"
            ]
          },
          "metadata": {
            "needs_background": "light"
          },
          "output_type": "display_data"
        }
      ],
      "source": [
        "sns.distplot(df[\"alcohol\"], kde=True)"
      ]
    },
    {
      "cell_type": "code",
      "execution_count": 137,
      "metadata": {
        "colab": {
          "base_uri": "https://localhost:8080/",
          "height": 353
        },
        "id": "ssIiIXxLOrfM",
        "outputId": "fda821d0-3b67-416e-e820-b07b8202151c"
      },
      "outputs": [
        {
          "name": "stderr",
          "output_type": "stream",
          "text": [
            "/usr/local/lib/python3.9/dist-packages/seaborn/distributions.py:2619: FutureWarning: `distplot` is a deprecated function and will be removed in a future version. Please adapt your code to use either `displot` (a figure-level function with similar flexibility) or `histplot` (an axes-level function for histograms).\n",
            "  warnings.warn(msg, FutureWarning)\n"
          ]
        },
        {
          "data": {
            "text/plain": [
              "<AxesSubplot:xlabel='density', ylabel='Density'>"
            ]
          },
          "execution_count": 137,
          "metadata": {},
          "output_type": "execute_result"
        },
        {
          "data": {
            "image/png": "[encoded data removed]",
            "text/plain": [
              "<Figure size 432x288 with 1 Axes>"
            ]
          },
          "metadata": {
            "needs_background": "light"
          },
          "output_type": "display_data"
        }
      ],
      "source": [
        "sns.distplot(df[\"density\"], kde=True)"
      ]
    },
    {
      "cell_type": "code",
      "execution_count": 138,
      "metadata": {
        "colab": {
          "base_uri": "https://localhost:8080/",
          "height": 459
        },
        "id": "e4DvlC17wsl6",
        "outputId": "4652a7d0-3309-41bf-c581-9751509d8b06"
      },
      "outputs": [
        {
          "data": {
            "text/plain": [
              "<seaborn.axisgrid.JointGrid at 0x7f00ae040520>"
            ]
          },
          "execution_count": 138,
          "metadata": {},
          "output_type": "execute_result"
        },
        {
          "data": {
            "image/png": "[encoded data removed]",
            "text/plain": [
              "<Figure size 432x432 with 3 Axes>"
            ]
          },
          "metadata": {
            "needs_background": "light"
          },
          "output_type": "display_data"
        }
      ],
      "source": [
        "densAndAlc = df[['alcohol', 'density']]\n",
        "sns.jointplot(data=densAndAlc, x='alcohol', y=\"density\")"
      ]
    },
    {
      "cell_type": "markdown",
      "metadata": {
        "id": "RrT3hnBkT4XQ"
      },
      "source": [
        "**The alcohol ratings and density appear to be skewed right, while the dotplot above appears to reveal a negative correlation between alcohol content and density**"
      ]
    },
    {
      "cell_type": "markdown",
      "metadata": {},
      "source": [
        "## Normalize data, visualize a heatmap of correlations:"
      ]
    },
    {
      "cell_type": "code",
      "execution_count": 202,
      "metadata": {
        "colab": {
          "base_uri": "https://localhost:8080/",
          "height": 371
        },
        "id": "uxPHDVkkuRJp",
        "outputId": "b3de78c1-0911-410c-a0ef-2896261b34fe"
      },
      "outputs": [
        {
          "data": {
            "text/plain": [
              "<AxesSubplot:>"
            ]
          },
          "execution_count": 202,
          "metadata": {},
          "output_type": "execute_result"
        },
        {
          "data": {
            "image/png": "[encoded data removed]",
            "text/plain": [
              "<Figure size 432x288 with 2 Axes>"
            ]
          },
          "metadata": {
            "needs_background": "light"
          },
          "output_type": "display_data"
        }
      ],
      "source": [
        "normalized_df=(df-df.mean())/df.std()\n",
        "normalized_df\n",
        "sns.heatmap(normalized_df.corr())"
      ]
    },
    {
      "cell_type": "code",
      "execution_count": 76,
      "metadata": {
        "colab": {
          "base_uri": "https://localhost:8080/",
          "height": 522
        },
        "id": "mv9779WpKQGv",
        "outputId": "cc42f151-47b9-488f-f2e3-554dfa52d6ad"
      },
      "outputs": [
        {
          "data": {
            "text/html": [
              "\n",
              "  <div id=\"df-6d4bae29-851e-42e1-ac3f-aec8d2451460\">\n",
              "    <div class=\"colab-df-container\">\n",
              "      <div>\n",
              "<style scoped>\n",
              "    .dataframe tbody tr th:only-of-type {\n",
              "        vertical-align: middle;\n",
              "    }\n",
              "\n",
              "    .dataframe tbody tr th {\n",
              "        vertical-align: top;\n",
              "    }\n",
              "\n",
              "    .dataframe thead th {\n",
              "        text-align: right;\n",
              "    }\n",
              "</style>\n",
              "<table border=\"1\" class=\"dataframe\">\n",
              "  <thead>\n",
              "    <tr style=\"text-align: right;\">\n",
              "      <th></th>\n",
              "      <th>fixed acidity</th>\n",
              "      <th>volatile acidity</th>\n",
              "      <th>citric acid</th>\n",
              "      <th>residual sugar</th>\n",
              "      <th>chlorides</th>\n",
              "      <th>free sulfur dioxide</th>\n",
              "      <th>total sulfur dioxide</th>\n",
              "      <th>density</th>\n",
              "      <th>pH</th>\n",
              "      <th>sulphates</th>\n",
              "      <th>alcohol</th>\n",
              "      <th>quality</th>\n",
              "    </tr>\n",
              "  </thead>\n",
              "  <tbody>\n",
              "    <tr>\n",
              "      <th>fixed acidity</th>\n",
              "      <td>1.000000</td>\n",
              "      <td>-0.022697</td>\n",
              "      <td>0.289181</td>\n",
              "      <td>0.089021</td>\n",
              "      <td>0.023086</td>\n",
              "      <td>-0.049396</td>\n",
              "      <td>0.091070</td>\n",
              "      <td>0.265331</td>\n",
              "      <td>-0.425858</td>\n",
              "      <td>-0.017143</td>\n",
              "      <td>-0.120881</td>\n",
              "      <td>-0.113663</td>\n",
              "    </tr>\n",
              "    <tr>\n",
              "      <th>volatile acidity</th>\n",
              "      <td>-0.022697</td>\n",
              "      <td>1.000000</td>\n",
              "      <td>-0.149472</td>\n",
              "      <td>0.064286</td>\n",
              "      <td>0.070512</td>\n",
              "      <td>-0.097012</td>\n",
              "      <td>0.089261</td>\n",
              "      <td>0.027114</td>\n",
              "      <td>-0.031915</td>\n",
              "      <td>-0.035728</td>\n",
              "      <td>0.067718</td>\n",
              "      <td>-0.194723</td>\n",
              "    </tr>\n",
              "    <tr>\n",
              "      <th>citric acid</th>\n",
              "      <td>0.289181</td>\n",
              "      <td>-0.149472</td>\n",
              "      <td>1.000000</td>\n",
              "      <td>0.094212</td>\n",
              "      <td>0.114364</td>\n",
              "      <td>0.094077</td>\n",
              "      <td>0.121131</td>\n",
              "      <td>0.149503</td>\n",
              "      <td>-0.163748</td>\n",
              "      <td>0.062331</td>\n",
              "      <td>-0.075729</td>\n",
              "      <td>-0.009209</td>\n",
              "    </tr>\n",
              "    <tr>\n",
              "      <th>residual sugar</th>\n",
              "      <td>0.089021</td>\n",
              "      <td>0.064286</td>\n",
              "      <td>0.094212</td>\n",
              "      <td>1.000000</td>\n",
              "      <td>0.088685</td>\n",
              "      <td>0.299098</td>\n",
              "      <td>0.401439</td>\n",
              "      <td>0.838966</td>\n",
              "      <td>-0.194133</td>\n",
              "      <td>-0.026664</td>\n",
              "      <td>-0.450631</td>\n",
              "      <td>-0.097577</td>\n",
              "    </tr>\n",
              "    <tr>\n",
              "      <th>chlorides</th>\n",
              "      <td>0.023086</td>\n",
              "      <td>0.070512</td>\n",
              "      <td>0.114364</td>\n",
              "      <td>0.088685</td>\n",
              "      <td>1.000000</td>\n",
              "      <td>0.101392</td>\n",
              "      <td>0.198910</td>\n",
              "      <td>0.257211</td>\n",
              "      <td>-0.090439</td>\n",
              "      <td>0.016763</td>\n",
              "      <td>-0.360189</td>\n",
              "      <td>-0.209934</td>\n",
              "    </tr>\n",
              "    <tr>\n",
              "      <th>free sulfur dioxide</th>\n",
              "      <td>-0.049396</td>\n",
              "      <td>-0.097012</td>\n",
              "      <td>0.094077</td>\n",
              "      <td>0.299098</td>\n",
              "      <td>0.101392</td>\n",
              "      <td>1.000000</td>\n",
              "      <td>0.615501</td>\n",
              "      <td>0.294210</td>\n",
              "      <td>-0.000618</td>\n",
              "      <td>0.059217</td>\n",
              "      <td>-0.250104</td>\n",
              "      <td>0.008158</td>\n",
              "    </tr>\n",
              "    <tr>\n",
              "      <th>total sulfur dioxide</th>\n",
              "      <td>0.091070</td>\n",
              "      <td>0.089261</td>\n",
              "      <td>0.121131</td>\n",
              "      <td>0.401439</td>\n",
              "      <td>0.198910</td>\n",
              "      <td>0.615501</td>\n",
              "      <td>1.000000</td>\n",
              "      <td>0.529881</td>\n",
              "      <td>0.002321</td>\n",
              "      <td>0.134562</td>\n",
              "      <td>-0.448892</td>\n",
              "      <td>-0.174737</td>\n",
              "    </tr>\n",
              "    <tr>\n",
              "      <th>density</th>\n",
              "      <td>0.265331</td>\n",
              "      <td>0.027114</td>\n",
              "      <td>0.149503</td>\n",
              "      <td>0.838966</td>\n",
              "      <td>0.257211</td>\n",
              "      <td>0.294210</td>\n",
              "      <td>0.529881</td>\n",
              "      <td>1.000000</td>\n",
              "      <td>-0.093591</td>\n",
              "      <td>0.074493</td>\n",
              "      <td>-0.780138</td>\n",
              "      <td>-0.307123</td>\n",
              "    </tr>\n",
              "    <tr>\n",
              "      <th>pH</th>\n",
              "      <td>-0.425858</td>\n",
              "      <td>-0.031915</td>\n",
              "      <td>-0.163748</td>\n",
              "      <td>-0.194133</td>\n",
              "      <td>-0.090439</td>\n",
              "      <td>-0.000618</td>\n",
              "      <td>0.002321</td>\n",
              "      <td>-0.093591</td>\n",
              "      <td>1.000000</td>\n",
              "      <td>0.155951</td>\n",
              "      <td>0.121432</td>\n",
              "      <td>0.099427</td>\n",
              "    </tr>\n",
              "    <tr>\n",
              "      <th>sulphates</th>\n",
              "      <td>-0.017143</td>\n",
              "      <td>-0.035728</td>\n",
              "      <td>0.062331</td>\n",
              "      <td>-0.026664</td>\n",
              "      <td>0.016763</td>\n",
              "      <td>0.059217</td>\n",
              "      <td>0.134562</td>\n",
              "      <td>0.074493</td>\n",
              "      <td>0.155951</td>\n",
              "      <td>1.000000</td>\n",
              "      <td>-0.017433</td>\n",
              "      <td>0.053678</td>\n",
              "    </tr>\n",
              "    <tr>\n",
              "      <th>alcohol</th>\n",
              "      <td>-0.120881</td>\n",
              "      <td>0.067718</td>\n",
              "      <td>-0.075729</td>\n",
              "      <td>-0.450631</td>\n",
              "      <td>-0.360189</td>\n",
              "      <td>-0.250104</td>\n",
              "      <td>-0.448892</td>\n",
              "      <td>-0.780138</td>\n",
              "      <td>0.121432</td>\n",
              "      <td>-0.017433</td>\n",
              "      <td>1.000000</td>\n",
              "      <td>0.435575</td>\n",
              "    </tr>\n",
              "    <tr>\n",
              "      <th>quality</th>\n",
              "      <td>-0.113663</td>\n",
              "      <td>-0.194723</td>\n",
              "      <td>-0.009209</td>\n",
              "      <td>-0.097577</td>\n",
              "      <td>-0.209934</td>\n",
              "      <td>0.008158</td>\n",
              "      <td>-0.174737</td>\n",
              "      <td>-0.307123</td>\n",
              "      <td>0.099427</td>\n",
              "      <td>0.053678</td>\n",
              "      <td>0.435575</td>\n",
              "      <td>1.000000</td>\n",
              "    </tr>\n",
              "  </tbody>\n",
              "</table>\n",
              "</div>\n",
              "      <button class=\"colab-df-convert\" onclick=\"convertToInteractive('df-6d4bae29-851e-42e1-ac3f-aec8d2451460')\"\n",
              "              title=\"Convert this dataframe to an interactive table.\"\n",
              "              style=\"display:none;\">\n",
              "        \n",
              "  <svg xmlns=\"http://www.w3.org/2000/svg\" height=\"24px\"viewBox=\"0 0 24 24\"\n",
              "       width=\"24px\">\n",
              "    <path d=\"M0 0h24v24H0V0z\" fill=\"none\"/>\n",
              "    <path d=\"M18.56 5.44l.94 2.06.94-2.06 2.06-.94-2.06-.94-.94-2.06-.94 2.06-2.06.94zm-11 1L8.5 8.5l.94-2.06 2.06-.94-2.06-.94L8.5 2.5l-.94 2.06-2.06.94zm10 10l.94 2.06.94-2.06 2.06-.94-2.06-.94-.94-2.06-.94 2.06-2.06.94z\"/><path d=\"M17.41 7.96l-1.37-1.37c-.4-.4-.92-.59-1.43-.59-.52 0-1.04.2-1.43.59L10.3 9.45l-7.72 7.72c-.78.78-.78 2.05 0 2.83L4 21.41c.39.39.9.59 1.41.59.51 0 1.02-.2 1.41-.59l7.78-7.78 2.81-2.81c.8-.78.8-2.07 0-2.86zM5.41 20L4 18.59l7.72-7.72 1.47 1.35L5.41 20z\"/>\n",
              "  </svg>\n",
              "      </button>\n",
              "      \n",
              "  <style>\n",
              "    .colab-df-container {\n",
              "      display:flex;\n",
              "      flex-wrap:wrap;\n",
              "      gap: 12px;\n",
              "    }\n",
              "\n",
              "    .colab-df-convert {\n",
              "      background-color: #E8F0FE;\n",
              "      border: none;\n",
              "      border-radius: 50%;\n",
              "      cursor: pointer;\n",
              "      display: none;\n",
              "      fill: #1967D2;\n",
              "      height: 32px;\n",
              "      padding: 0 0 0 0;\n",
              "      width: 32px;\n",
              "    }\n",
              "\n",
              "    .colab-df-convert:hover {\n",
              "      background-color: #E2EBFA;\n",
              "      box-shadow: 0px 1px 2px rgba(60, 64, 67, 0.3), 0px 1px 3px 1px rgba(60, 64, 67, 0.15);\n",
              "      fill: #174EA6;\n",
              "    }\n",
              "\n",
              "    [theme=dark] .colab-df-convert {\n",
              "      background-color: #3B4455;\n",
              "      fill: #D2E3FC;\n",
              "    }\n",
              "\n",
              "    [theme=dark] .colab-df-convert:hover {\n",
              "      background-color: #434B5C;\n",
              "      box-shadow: 0px 1px 3px 1px rgba(0, 0, 0, 0.15);\n",
              "      filter: drop-shadow(0px 1px 2px rgba(0, 0, 0, 0.3));\n",
              "      fill: #FFFFFF;\n",
              "    }\n",
              "  </style>\n",
              "\n",
              "      <script>\n",
              "        const buttonEl =\n",
              "          document.querySelector('#df-6d4bae29-851e-42e1-ac3f-aec8d2451460 button.colab-df-convert');\n",
              "        buttonEl.style.display =\n",
              "          google.colab.kernel.accessAllowed ? 'block' : 'none';\n",
              "\n",
              "        async function convertToInteractive(key) {\n",
              "          const element = document.querySelector('#df-6d4bae29-851e-42e1-ac3f-aec8d2451460');\n",
              "          const dataTable =\n",
              "            await google.colab.kernel.invokeFunction('convertToInteractive',\n",
              "                                                     [key], {});\n",
              "          if (!dataTable) return;\n",
              "\n",
              "          const docLinkHtml = 'Like what you see? Visit the ' +\n",
              "            '<a target=\"_blank\" href=https://colab.research.google.com/notebooks/data_table.ipynb>data table notebook</a>'\n",
              "            + ' to learn more about interactive tables.';\n",
              "          element.innerHTML = '';\n",
              "          dataTable['output_type'] = 'display_data';\n",
              "          await google.colab.output.renderOutput(dataTable, element);\n",
              "          const docLink = document.createElement('div');\n",
              "          docLink.innerHTML = docLinkHtml;\n",
              "          element.appendChild(docLink);\n",
              "        }\n",
              "      </script>\n",
              "    </div>\n",
              "  </div>\n",
              "  "
            ],
            "text/plain": [
              "                      fixed acidity  volatile acidity  citric acid  \\\n",
              "fixed acidity              1.000000         -0.022697     0.289181   \n",
              "volatile acidity          -0.022697          1.000000    -0.149472   \n",
              "citric acid                0.289181         -0.149472     1.000000   \n",
              "residual sugar             0.089021          0.064286     0.094212   \n",
              "chlorides                  0.023086          0.070512     0.114364   \n",
              "free sulfur dioxide       -0.049396         -0.097012     0.094077   \n",
              "total sulfur dioxide       0.091070          0.089261     0.121131   \n",
              "density                    0.265331          0.027114     0.149503   \n",
              "pH                        -0.425858         -0.031915    -0.163748   \n",
              "sulphates                 -0.017143         -0.035728     0.062331   \n",
              "alcohol                   -0.120881          0.067718    -0.075729   \n",
              "quality                   -0.113663         -0.194723    -0.009209   \n",
              "\n",
              "                      residual sugar  chlorides  free sulfur dioxide  \\\n",
              "fixed acidity               0.089021   0.023086            -0.049396   \n",
              "volatile acidity            0.064286   0.070512            -0.097012   \n",
              "citric acid                 0.094212   0.114364             0.094077   \n",
              "residual sugar              1.000000   0.088685             0.299098   \n",
              "chlorides                   0.088685   1.000000             0.101392   \n",
              "free sulfur dioxide         0.299098   0.101392             1.000000   \n",
              "total sulfur dioxide        0.401439   0.198910             0.615501   \n",
              "density                     0.838966   0.257211             0.294210   \n",
              "pH                         -0.194133  -0.090439            -0.000618   \n",
              "sulphates                  -0.026664   0.016763             0.059217   \n",
              "alcohol                    -0.450631  -0.360189            -0.250104   \n",
              "quality                    -0.097577  -0.209934             0.008158   \n",
              "\n",
              "                      total sulfur dioxide   density        pH  sulphates  \\\n",
              "fixed acidity                     0.091070  0.265331 -0.425858  -0.017143   \n",
              "volatile acidity                  0.089261  0.027114 -0.031915  -0.035728   \n",
              "citric acid                       0.121131  0.149503 -0.163748   0.062331   \n",
              "residual sugar                    0.401439  0.838966 -0.194133  -0.026664   \n",
              "chlorides                         0.198910  0.257211 -0.090439   0.016763   \n",
              "free sulfur dioxide               0.615501  0.294210 -0.000618   0.059217   \n",
              "total sulfur dioxide              1.000000  0.529881  0.002321   0.134562   \n",
              "density                           0.529881  1.000000 -0.093591   0.074493   \n",
              "pH                                0.002321 -0.093591  1.000000   0.155951   \n",
              "sulphates                         0.134562  0.074493  0.155951   1.000000   \n",
              "alcohol                          -0.448892 -0.780138  0.121432  -0.017433   \n",
              "quality                          -0.174737 -0.307123  0.099427   0.053678   \n",
              "\n",
              "                       alcohol   quality  \n",
              "fixed acidity        -0.120881 -0.113663  \n",
              "volatile acidity      0.067718 -0.194723  \n",
              "citric acid          -0.075729 -0.009209  \n",
              "residual sugar       -0.450631 -0.097577  \n",
              "chlorides            -0.360189 -0.209934  \n",
              "free sulfur dioxide  -0.250104  0.008158  \n",
              "total sulfur dioxide -0.448892 -0.174737  \n",
              "density              -0.780138 -0.307123  \n",
              "pH                    0.121432  0.099427  \n",
              "sulphates            -0.017433  0.053678  \n",
              "alcohol               1.000000  0.435575  \n",
              "quality               0.435575  1.000000  "
            ]
          },
          "execution_count": 76,
          "metadata": {},
          "output_type": "execute_result"
        }
      ],
      "source": [
        "normalized_df.corr() # got correlations for model params as a reference point when printing out my learned parameters during development"
      ]
    },
    {
      "cell_type": "markdown",
      "metadata": {
        "id": "pX4EdhduU2fJ"
      },
      "source": [
        "Quality appears to be significantly correlated with alcohol, as well as density and volatile acidity. Density and alcohol seem to be very negatively correlated"
      ]
    },
    {
      "cell_type": "markdown",
      "metadata": {},
      "source": [
        "## Declare models, loss function"
      ]
    },
    {
      "cell_type": "code",
      "execution_count": 140,
      "metadata": {
        "id": "ptOm3NRvphpQ"
      },
      "outputs": [],
      "source": [
        "def gradDec(model, n_params, x, y, lr=0.01, n_epochs=2000, print_rate=200):\n",
        "\n",
        "  params = 0.1*torch.rand(n_params).float() #Random inital paramaters\n",
        "  params.requires_grad = True\n",
        "\n",
        "  for epoch in range(n_epochs):\n",
        "    y_pred = model(params, x)\n",
        "    loss_tenor = (y_pred - y)**2\n",
        "    loss = loss_tenor.mean()\n",
        "    loss.backward()\n",
        "    with torch.no_grad():\n",
        "      params -= lr*params.grad\n",
        "      params.grad.zero_() \n",
        "    # if epoch%print_rate==0:\n",
        "    #   print(\"epoch:\",epoch,\"loss=\",loss.item())\n",
        "\n",
        "  return params"
      ]
    },
    {
      "cell_type": "code",
      "execution_count": 141,
      "metadata": {
        "id": "ic-tF73LxL00"
      },
      "outputs": [],
      "source": [
        "def mean_squared_error(y, pred):\n",
        "    squared_errors = (y - pred) ** 2\n",
        "    mse = squared_errors.mean()\n",
        "    return mse"
      ]
    },
    {
      "cell_type": "code",
      "execution_count": 142,
      "metadata": {
        "id": "I8wm4FXfJnWH"
      },
      "outputs": [],
      "source": [
        "# Linear Model:\n",
        "def linModel(params, inputs):\n",
        "  y_pred = params[0]*inputs[:,0] + params[1]\n",
        "  return y_pred\n",
        "\n",
        "features=[\"alcohol\"]\n",
        "x = torch.Tensor(normalized_df[features].values)\n",
        "y = torch.Tensor(normalized_df[\"quality\"].values)\n",
        "linParams = gradDec(linModel,2,x,y,0.001)\n",
        "linPreds = linModel(linParams, x).detach().numpy()"
      ]
    },
    {
      "cell_type": "code",
      "execution_count": 143,
      "metadata": {
        "colab": {
          "base_uri": "https://localhost:8080/",
          "height": 333
        },
        "id": "d_s_xB55J8c8",
        "outputId": "ddc85917-cf22-4155-fc20-5b57b6e44fdb"
      },
      "outputs": [
        {
          "name": "stdout",
          "output_type": "stream",
          "text": [
            "MSE for normalized multilinear model:  0.8101606965065002\n",
            "tensor([0.4286, 0.0016], requires_grad=True)\n"
          ]
        },
        {
          "data": {
            "text/plain": [
              "<AxesSubplot:xlabel='quality', ylabel='preds'>"
            ]
          },
          "execution_count": 143,
          "metadata": {},
          "output_type": "execute_result"
        },
        {
          "data": {
            "image/png": "[encoded data removed]",
            "text/plain": [
              "<Figure size 432x288 with 1 Axes>"
            ]
          },
          "metadata": {
            "needs_background": "light"
          },
          "output_type": "display_data"
        }
      ],
      "source": [
        "print(\"MSE for normalized multilinear model: \", mean_squared_error(y, linPreds).item())\n",
        "print(linParams)\n",
        "# Use denormalized version so axis more readable\n",
        "linData = pd.DataFrame(data=df[\"quality\"])\n",
        "linData[\"preds\"] = linPreds\n",
        "sns.boxplot(data=linData, x=\"quality\", y=\"preds\")"
      ]
    },
    {
      "cell_type": "markdown",
      "metadata": {
        "id": "vtQs-pOsXkjF"
      },
      "source": [
        "For the linear model, I chose inputs via gradient descent, normalized data because inputs may have different values. \n",
        "The plot and mean squared accuracy are above, and the equation from one of my runs is:\n",
        "\n",
        "y = .4286*alcohol + .0016\n",
        "\n",
        "And this makes sense, since .4286 is close to the correlation value between alcohol and quaslity I got from .corr() earlier"
      ]
    },
    {
      "cell_type": "code",
      "execution_count": 145,
      "metadata": {
        "id": "PrPSg_YQa1w6"
      },
      "outputs": [],
      "source": [
        "features=[\"alcohol\",\"chlorides\",\"density\"]\n",
        "x = torch.Tensor(normalized_df[features].values)\n",
        "y = torch.Tensor(normalized_df[\"quality\"].values)\n",
        "def multiLinearModel(params, inputs):\n",
        "  y_pred = params[0]*inputs[:,0] + params[1]*inputs[:,1] + params[2]*inputs[:,2] - params[3]\n",
        "  return y_pred"
      ]
    },
    {
      "cell_type": "code",
      "execution_count": 164,
      "metadata": {
        "colab": {
          "base_uri": "https://localhost:8080/",
          "height": 315
        },
        "id": "aStmaT08qZew",
        "outputId": "bf17d988-6144-4cfd-dc09-f7b32a684d21"
      },
      "outputs": [
        {
          "name": "stdout",
          "output_type": "stream",
          "text": [
            "MSE for normalized multilinear model:  0.807881236076355\n"
          ]
        },
        {
          "data": {
            "text/plain": [
              "<AxesSubplot:xlabel='quality', ylabel='preds'>"
            ]
          },
          "execution_count": 164,
          "metadata": {},
          "output_type": "execute_result"
        },
        {
          "data": {
            "image/png": "[encoded data removed]",
            "text/plain": [
              "<Figure size 432x288 with 1 Axes>"
            ]
          },
          "metadata": {
            "needs_background": "light"
          },
          "output_type": "display_data"
        }
      ],
      "source": [
        "multiLinParams = gradDec(multiLinearModel,4,x,y,0.001)\n",
        "preds = multiLinearModel(multiLinParams, x)\n",
        "# print(multiLinParams)\n",
        "print(\"MSE for normalized multilinear model: \", mean_squared_error(y, preds).item())\n",
        "# Use denormalized version so axis more readable\n",
        "multiLinData = pd.DataFrame(data=df[\"quality\"])\n",
        "multiLinPreds = preds.detach().numpy()\n",
        "multiLinData[\"preds\"] = multiLinPreds\n",
        "sns.boxplot(data=multiLinData, x=\"quality\", y=\"preds\")"
      ]
    },
    {
      "cell_type": "markdown",
      "metadata": {
        "id": "U4PNVn4yYnoo"
      },
      "source": [
        "Multilinear: Inputs via gradient descent, normalized data because inputs may have different values, and I used normalized for most of this assignment, so the consistency makes things simpler for me. The plot and mean squared accuracy are above, and the equation from one of my runs is:\n",
        "\n",
        "y = .3794 * alcohol - .0717 * chlorides  - .0125 * desnity + .0016\n",
        "\n",
        "I am confident in this plot because 6, the most common quality rating, has an MSE centered around 0, with 5 slightly below it and 7 slightly above it."
      ]
    },
    {
      "cell_type": "code",
      "execution_count": 169,
      "metadata": {
        "id": "xfLW1t4Ws_cy"
      },
      "outputs": [],
      "source": [
        "# Nonlinear model:\n",
        "features=[\"alcohol\",\"chlorides\",\"density\", \"volatile acidity\", \"fixed acidity\"]\n",
        "x = torch.Tensor(normalized_df[features].values)\n",
        "y = torch.Tensor(normalized_df[\"quality\"].values)\n",
        "def nonLinearModel(params, inputs):\n",
        "  y_pred = params[0]*inputs[:,0] + params[1]*inputs[:,1] + params[2]*inputs[:,2] + params[4]*(inputs[:,4]*inputs[:,3]) - params[3]*(inputs[:,2]*inputs[:,3]) - params[5] + params[6]\n",
        "  return y_pred"
      ]
    },
    {
      "cell_type": "code",
      "execution_count": 171,
      "metadata": {
        "colab": {
          "base_uri": "https://localhost:8080/",
          "height": 350
        },
        "id": "ReQKHKCA6dFi",
        "outputId": "a94ca602-39c2-43d6-8e15-68c762d51bc7"
      },
      "outputs": [
        {
          "name": "stdout",
          "output_type": "stream",
          "text": [
            "tensor([ 0.3816, -0.0729, -0.0026,  0.0227, -0.0107,  0.0290,  0.0294],\n",
            "       requires_grad=True)\n",
            "MSE for normalized multilinear model:  0.8083398342132568\n"
          ]
        },
        {
          "data": {
            "text/plain": [
              "<AxesSubplot:xlabel='quality', ylabel='preds'>"
            ]
          },
          "execution_count": 171,
          "metadata": {},
          "output_type": "execute_result"
        },
        {
          "data": {
            "image/png": "[encoded data removed]",
            "text/plain": [
              "<Figure size 432x288 with 1 Axes>"
            ]
          },
          "metadata": {
            "needs_background": "light"
          },
          "output_type": "display_data"
        }
      ],
      "source": [
        "nonLinParams = gradDec(nonLinearModel,7,x,y,0.001)\n",
        "preds = multiLinearModel(nonLinParams, x)\n",
        "print(nonLinParams)\n",
        "print(\"MSE for normalized multilinear model: \", mean_squared_error(y, preds).item())\n",
        "# Use denormalized version so axis more readable\n",
        "multiLinData = pd.DataFrame(data=df[\"quality\"])\n",
        "nonLinPreds = preds.detach().numpy()\n",
        "multiLinData[\"preds\"] = nonLinPreds\n",
        "sns.boxplot(data=multiLinData, x=\"quality\", y=\"preds\")"
      ]
    },
    {
      "cell_type": "markdown",
      "metadata": {
        "id": "wSFSnEyjZqzQ"
      },
      "source": [
        "For the nonlinear model, I chose inputs by looking at the correlation table for high correlates with quality, and things with significant negative correlations between each other, data was normalized here to help complex interactions between two or more features be more accurate. The plot and mean squared accuracy (MSE) are above, and the equation from one of my runs is:\n",
        "\n",
        "y = .3893*alcohol - .0686*chlorides + .0028*density - .0233*(density * volatile acidity) + .0110*(volatile acidity * fixed acidity) - .0363 + .0367\n",
        "\n",
        "While the intuitive deicisoin is to have a parameter to model the interaction between density and alcohol, but when I tested that combination, I got low MSE for my model. So, to a degree, this equation is the result of some semi-informed guessing and checking to get a low MSE. An interesting thing about this equation is that it both adds and then subtracts constants, but when one removes one of those parameters as a constant from the equation, the MSE of the model increases.\n",
        "\n",
        "\n",
        "\n"
      ]
    },
    {
      "cell_type": "markdown",
      "metadata": {
        "id": "qhNLxy6GJ_h5"
      },
      "source": [
        "# Testing Accuracy"
      ]
    },
    {
      "cell_type": "code",
      "execution_count": 178,
      "metadata": {
        "colab": {
          "base_uri": "https://localhost:8080/"
        },
        "id": "7p0s-FzjJ6Bt",
        "outputId": "4fbf6a45-5fc6-45f5-e4ec-61d634b89e4d"
      },
      "outputs": [
        {
          "name": "stdout",
          "output_type": "stream",
          "text": [
            "T-value: 0.25\n",
            "Linear Acc: 0.18313597386688443\n",
            "MultiLinear Acc: 0.18538178848509596\n",
            "NonLinear Acc: 0.19293589220089832\n",
            "T-value: 0.5\n",
            "Linear Acc: 0.39363005308289095\n",
            "MultiLinear Acc: 0.407309105757452\n",
            "NonLinear Acc: 0.4022049816251531\n",
            "T-value: 1\n",
            "Linear Acc: 0.7895059207839935\n",
            "MultiLinear Acc: 0.7835851367905268\n",
            "NonLinear Acc: 0.782564311964067\n"
          ]
        }
      ],
      "source": [
        "def getAcc(actual, preds, t):\n",
        "    yDiff = np.abs(actual - preds)\n",
        "    return np.mean(yDiff.to_numpy() <= t)\n",
        "# Convert so getAcc can be re-used in p4\n",
        "ySeries = pd.Series(y)\n",
        "for t in [0.25, 0.5, 1]:\n",
        "    print(f\"T-value: {t}\")\n",
        "    print(f\"Linear Acc: {getAcc(ySeries, linPreds, t)}\") \n",
        "    print(f\"MultiLinear Acc: {getAcc(ySeries, multiLinPreds, t)}\")\n",
        "    print(f\"NonLinear Acc: {getAcc(ySeries, nonLinPreds, t)}\")\n"
      ]
    },
    {
      "cell_type": "markdown",
      "metadata": {
        "id": "Ae1Hbp92eCZq"
      },
      "source": [
        "The nonlinear model performed the best at low t-values, which I would consider to be the best metric in this scenario, while the multilinear performed decently and the linear lagged behind both for lower t-values. The difference is significant in t=.25, and it is clear in t=.5 that linear is not as accurate, however linear actually suprasses the other two at t=1 here."
      ]
    },
    {
      "cell_type": "markdown",
      "metadata": {
        "id": "viPUKza9fsmn"
      },
      "source": [
        "# Cross-Validation on different models & t-values"
      ]
    },
    {
      "cell_type": "code",
      "execution_count": 179,
      "metadata": {
        "id": "DRynHTh0fsXo"
      },
      "outputs": [],
      "source": [
        "qualityNorm = normalized_df[\"quality\"]\n",
        "features = [\"alcohol\",\"chlorides\",\"density\", \"volatile acidity\", \"fixed acidity\"]\n",
        "featuresNorm = torch.Tensor(normalized_df[features].values)\n",
        "\n",
        "indices = np.random.permutation(len(qualityNorm))\n",
        "featuresNorm = featuresNorm[indices]\n",
        "qualityNorm = qualityNorm[indices]\n",
        "\n",
        "# Split data into k folds (k=5)\n",
        "X_folds = np.array_split(featuresNorm, 5)\n",
        "y_folds = np.array_split(qualityNorm, 5)\n",
        "\n",
        "linAccArr = []\n",
        "multiLinAccArr = []\n",
        "nonLinAccArr = []"
      ]
    },
    {
      "cell_type": "code",
      "execution_count": 180,
      "metadata": {
        "colab": {
          "base_uri": "https://localhost:8080/"
        },
        "id": "0ENScRoi6dXo",
        "outputId": "f0a6fbb6-56e6-4309-9bd6-e6fb1712143e"
      },
      "outputs": [
        {
          "name": "stdout",
          "output_type": "stream",
          "text": [
            "T-value: 0.25\n",
            "Linear Acc: 0.19489795918367347\n",
            "MultiLinear Acc: 0.2\n",
            "NonLinear Acc: 0.20612244897959184\n",
            "T-value: 0.5\n",
            "Linear Acc: 0.42244897959183675\n",
            "MultiLinear Acc: 0.42346938775510207\n",
            "NonLinear Acc: 0.4275510204081633\n",
            "T-value: 1\n",
            "Linear Acc: 0.7785714285714286\n",
            "MultiLinear Acc: 0.7775510204081633\n",
            "NonLinear Acc: 0.7693877551020408\n",
            "T-value: 0.25\n",
            "Linear Acc: 0.1846938775510204\n",
            "MultiLinear Acc: 0.18877551020408162\n",
            "NonLinear Acc: 0.19081632653061226\n",
            "T-value: 0.5\n",
            "Linear Acc: 0.38877551020408163\n",
            "MultiLinear Acc: 0.3989795918367347\n",
            "NonLinear Acc: 0.4122448979591837\n",
            "T-value: 1\n",
            "Linear Acc: 0.7969387755102041\n",
            "MultiLinear Acc: 0.7908163265306123\n",
            "NonLinear Acc: 0.7846938775510204\n",
            "T-value: 0.25\n",
            "Linear Acc: 0.17142857142857143\n",
            "MultiLinear Acc: 0.1836734693877551\n",
            "NonLinear Acc: 0.18877551020408162\n",
            "T-value: 0.5\n",
            "Linear Acc: 0.38877551020408163\n",
            "MultiLinear Acc: 0.4\n",
            "NonLinear Acc: 0.4153061224489796\n",
            "T-value: 1\n",
            "Linear Acc: 0.7969387755102041\n",
            "MultiLinear Acc: 0.7918367346938775\n",
            "NonLinear Acc: 0.7836734693877551\n",
            "T-value: 0.25\n",
            "Linear Acc: 0.1634320735444331\n",
            "MultiLinear Acc: 0.16853932584269662\n",
            "NonLinear Acc: 0.17058222676200205\n",
            "T-value: 0.5\n",
            "Linear Acc: 0.3881511746680286\n",
            "MultiLinear Acc: 0.40755873340143\n",
            "NonLinear Acc: 0.41062308478038817\n",
            "T-value: 1\n",
            "Linear Acc: 0.780388151174668\n",
            "MultiLinear Acc: 0.780388151174668\n",
            "NonLinear Acc: 0.7763023493360572\n",
            "T-value: 0.25\n",
            "Linear Acc: 0.18386108273748722\n",
            "MultiLinear Acc: 0.18794688457609807\n",
            "NonLinear Acc: 0.1930541368743616\n",
            "T-value: 0.5\n",
            "Linear Acc: 0.4034729315628192\n",
            "MultiLinear Acc: 0.40755873340143\n",
            "NonLinear Acc: 0.4034729315628192\n",
            "T-value: 1\n",
            "Linear Acc: 0.7906026557711952\n",
            "MultiLinear Acc: 0.7834525025536262\n",
            "NonLinear Acc: 0.7793667007150153\n"
          ]
        }
      ],
      "source": [
        "for i in range(5):\n",
        "    # Split data for fold, tensorize:\n",
        "    X_train = np.concatenate(X_folds[:i] + X_folds[i+1:])\n",
        "    y_train = np.concatenate(y_folds[:i] + y_folds[i+1:])\n",
        "    X_val = X_folds[i]\n",
        "    y_val = y_folds[i]\n",
        "\n",
        "    X_train = torch.Tensor(X_train)\n",
        "    y_train = torch.Tensor(y_train)\n",
        "\n",
        "    for t in [0.25, 0.5, 1]:\n",
        "        # Linear\n",
        "        linParams = gradDec(linModel,2,X_train,y_train,0.001)\n",
        "        linPreds = linModel(linParams, X_val)\n",
        "        linPreds = linPreds.detach().numpy()\n",
        "\n",
        "        # Multi\n",
        "        multiLinParams = gradDec(multiLinearModel,4,X_train,y_train,0.001)\n",
        "        multiLinPreds = multiLinearModel(multiLinParams, X_val)\n",
        "        multiLinPreds = multiLinPreds.detach().numpy()\n",
        "\n",
        "        # NonLinear\n",
        "        nonLinParams = gradDec(nonLinearModel,7,X_train,y_train,0.001)\n",
        "        nonLinPreds = nonLinearModel(nonLinParams, X_val)\n",
        "        nonLinPreds = nonLinPreds.detach().numpy()\n",
        "\n",
        "        # Get accuracies:\n",
        "        linAcc = getAcc(y_val, linPreds, t)\n",
        "        multiLinAcc = getAcc(y_val, multiLinPreds, t)\n",
        "        nonLinAcc = getAcc(y_val, nonLinPreds, t)\n",
        "\n",
        "        # Append to accuracy arrays:\n",
        "        linAccArr.append(linAcc)\n",
        "        multiLinAccArr.append(multiLinAcc)\n",
        "        nonLinAccArr.append(nonLinAcc)\n",
        "\n",
        "        print(f\"T-value: {t}\")\n",
        "        print(f\"Linear Acc: {linAcc}\") \n",
        "        print(f\"MultiLinear Acc: {multiLinAcc}\")\n",
        "        print(f\"NonLinear Acc: {nonLinAcc}\")\n"
      ]
    },
    {
      "cell_type": "code",
      "execution_count": 194,
      "metadata": {
        "id": "-068BIRbBb4y"
      },
      "outputs": [],
      "source": [
        "# n=0 corresponds to t=.25, n=1 to t-.5, n=2 to t=1\n",
        "def averageofN(arr, n):\n",
        "    return sum(arr[n::3]) / len(arr[n::3])\n",
        "def getT(arr, n):\n",
        "  return arr[n::3]\n",
        "\n",
        "# Get stdev, accuracies of model\n",
        "lin25 = np.asarray(getT(linAccArr, 0))\n",
        "multi25 = np.asarray(getT(multiLinAccArr, 0))\n",
        "nonLin25 = np.asarray(getT(nonLinAccArr, 0))\n",
        "\n",
        "lin50 = np.asarray(getT(linAccArr, 1))\n",
        "multi50 = np.asarray(getT(multiLinAccArr, 1))\n",
        "nonLin50 = np.asarray(getT(nonLinAccArr, 1))\n",
        "\n",
        "lin100 = np.asarray(getT(linAccArr, 2))\n",
        "multi100 = np.asarray(getT(multiLinAccArr, 2))\n",
        "nonLin100 = np.asarray(getT(nonLinAccArr, 2))\n",
        "\n",
        "# # Print results of validation \n",
        "# print(\"Accuracies of all runs (linear, multi, nonLinear): \")\n",
        "# print(linAccArr)\n",
        "# print(multiLinAccArr)\n",
        "# print(nonLinAccArr)"
      ]
    },
    {
      "cell_type": "code",
      "execution_count": 197,
      "metadata": {
        "colab": {
          "base_uri": "https://localhost:8080/"
        },
        "id": "FxWJtzImkybM",
        "outputId": "307f19c3-a9e8-4065-993d-9ed2dab15d93"
      },
      "outputs": [
        {
          "name": "stdout",
          "output_type": "stream",
          "text": [
            "\n",
            "Averages accuracies of runs (linear, multi, nonLinear): \n",
            "\n",
            "Averages of t=.25 accuracies (linear, multi, nonLinear): \n",
            "0.17966271288903712\n",
            "0.1857870380021263\n",
            "0.18987012987012986\n",
            "\n",
            "Averages of t=.5 accuracies (linear, multi, nonLinear): \n",
            "0.3983248212461696\n",
            "0.40751328927893943\n",
            "0.41383961143190684\n",
            "\n",
            "Averages of t=1.0 accuracies (linear, multi, nonLinear): \n",
            "0.78868795730754\n",
            "0.7848089470721894\n",
            "0.7786848304183778\n",
            "\n",
            "Standard deviations of runs (linear, multi, nonLinear): \n",
            "\n",
            "Standard deviations of t=.25 accuracies (linear, multiLinear, nonLinear:\n",
            "0.011011688299476727\n",
            "0.010174034982249204\n",
            "0.011387646496804455\n",
            "\n",
            "Standard deviations of t=.50 accuracies (linear, multiLinear, nonLinear:\n",
            "0.013374302398055924\n",
            "0.00876213121040372\n",
            "0.007880489793731387\n",
            "\n",
            "Standard deviations of t=1.0 accuracies (linear, multiLinear, nonLinear:\n",
            "0.007887319034315497\n",
            "0.0056487039995541935\n",
            "0.0055420562764339305\n"
          ]
        }
      ],
      "source": [
        "print(\"\\nAverages accuracies of runs (linear, multi, nonLinear): \")\n",
        "print(\"\\nAverages of t=.25 accuracies (linear, multi, nonLinear): \")\n",
        "print(averageofN(linAccArr, 0))\n",
        "print(averageofN(multiLinAccArr, 0))\n",
        "print(averageofN(nonLinAccArr, 0))\n",
        "\n",
        "print(\"\\nAverages of t=.5 accuracies (linear, multi, nonLinear): \")\n",
        "print(averageofN(linAccArr, 1))\n",
        "print(averageofN(multiLinAccArr, 1))\n",
        "print(averageofN(nonLinAccArr, 1))\n",
        "\n",
        "print(\"\\nAverages of t=1.0 accuracies (linear, multi, nonLinear): \")\n",
        "print(averageofN(linAccArr, 2))\n",
        "print(averageofN(multiLinAccArr, 2))\n",
        "print(averageofN(nonLinAccArr, 2))\n",
        "\n",
        "print(\"\\nStandard deviations of runs (linear, multi, nonLinear): \")\n",
        "print(\"\\nStandard deviations of t=.25 accuracies (linear, multiLinear, nonLinear:\")\n",
        "print(lin25.std())\n",
        "print(multi25.std())\n",
        "print(nonLin25.std())\n",
        "\n",
        "print(\"\\nStandard deviations of t=.50 accuracies (linear, multiLinear, nonLinear:\")\n",
        "print(lin50.std())\n",
        "print(multi50.std())\n",
        "print(nonLin50.std())\n",
        "\n",
        "print(\"\\nStandard deviations of t=1.0 accuracies (linear, multiLinear, nonLinear:\")\n",
        "print(lin100.std())\n",
        "print(multi100.std())\n",
        "print(nonLin100.std())\n",
        "\n"
      ]
    },
    {
      "cell_type": "markdown",
      "metadata": {
        "id": "fgPX8XbOeSzA"
      },
      "source": [
        "## SYNOPSIS:\n",
        "Once again, the nonLinear model performs the best accuracy-wise when t-values are low, with Linear behind the other two. However, when t=1, linear surpasses the other two models in accuracy. The standard deviations of all model accuracies are low at t=.25, but at t-values .5 and 1, the standard deviation of the linear model's accuracies surpasses the other two significantly. This may imply that the linear model has a large variation in accuracies, particularly when the threshold for accuracy is high. This may lead someone to label the linear model with t=1 as somewhat unreliable/unpredictable.\n",
        "\n",
        "\n",
        "\n"
      ]
    },
    {
      "cell_type": "markdown",
      "metadata": {},
      "source": [
        "# Testing KNN on data:"
      ]
    },
    {
      "cell_type": "code",
      "execution_count": 237,
      "metadata": {
        "id": "zmIrbxlEr8Dd"
      },
      "outputs": [],
      "source": [
        "from sklearn.model_selection import train_test_split\n",
        "from sklearn.neighbors import KNeighborsRegressor\n",
        "\n",
        "# Split data, get training & testing\n",
        "X = df.drop(['quality'], axis=1)\n",
        "y = df['quality']\n",
        "X_train, X_test, y_train, y_test = train_test_split(X, y, test_size=0.3, random_state=42)"
      ]
    },
    {
      "cell_type": "code",
      "execution_count": 239,
      "metadata": {
        "colab": {
          "base_uri": "https://localhost:8080/"
        },
        "id": "trFEW7d25YNk",
        "outputId": "7c68e526-285d-4446-977f-8c1030e9a6b7"
      },
      "outputs": [
        {
          "name": "stdout",
          "output_type": "stream",
          "text": [
            "Best k value: 1 with accuracy: 0.9428571428571428\n"
          ]
        }
      ],
      "source": [
        "# Get most accurate k-value for dataset\n",
        "best_k, bestAcc = 0, 0\n",
        "for k in range(1, 21):\n",
        "    knn = KNeighborsRegressor(n_neighbors=5, p=1)\n",
        "    knn.fit(X_train, y_train)\n",
        "    preds = knn.predict(X_test)\n",
        "    # Round to nearest whole number\n",
        "    preds = np.round(preds)\n",
        "    curAcc = getAcc(y_test, preds, 1.0)\n",
        "\n",
        "    if curAcc > bestAcc:\n",
        "        bestK = k\n",
        "        bestAcc = curAcc\n",
        "# Print results\n",
        "print(f\"Best k value: {bestK} with accuracy: {bestAcc}\")"
      ]
    }
  ],
  "metadata": {
    "colab": {
      "provenance": []
    },
    "kernelspec": {
      "display_name": "Python 3",
      "name": "python3"
    },
    "language_info": {
      "name": "python"
    }
  },
  "nbformat": 4,
  "nbformat_minor": 0
}
